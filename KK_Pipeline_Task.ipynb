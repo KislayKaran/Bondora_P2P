{
 "cells": [
  {
   "cell_type": "markdown",
   "metadata": {
    "id": "lxHeaBoMvNZM"
   },
   "source": [
    "### Notebook Preperation:"
   ]
  },
  {
   "cell_type": "code",
   "execution_count": null,
   "metadata": {
    "id": "cZjYCwkCvNZY"
   },
   "outputs": [],
   "source": [
    "import pandas as pd\n",
    "import numpy as np\n",
    "import warnings\n",
    "import matplotlib.pyplot as plt\n",
    "import seaborn as sns\n",
    "import pickle\n",
    "\n",
    "sns.set()\n",
    "warnings.filterwarnings('ignore')"
   ]
  },
  {
   "cell_type": "code",
   "execution_count": null,
   "metadata": {
    "id": "S-pLxEDavNZe"
   },
   "outputs": [],
   "source": [
    "from sklearn.preprocessing import StandardScaler\n",
    "from sklearn.decomposition import PCA\n",
    "from sklearn.metrics import accuracy_score, classification_report, confusion_matrix, r2_score\n",
    "from sklearn.model_selection import train_test_split\n",
    "\n",
    "from sklearn.pipeline import Pipeline"
   ]
  },
  {
   "cell_type": "markdown",
   "metadata": {
    "id": "fut7jBfXvNZg"
   },
   "source": [
    "---"
   ]
  },
  {
   "cell_type": "code",
   "execution_count": null,
   "metadata": {
    "id": "WhUVtqVgvNZi"
   },
   "outputs": [],
   "source": [
    "pd.set_option('display.max_columns', None)"
   ]
  },
  {
   "cell_type": "markdown",
   "metadata": {
    "id": "jsIegharvNZj"
   },
   "source": [
    "---"
   ]
  },
  {
   "cell_type": "markdown",
   "metadata": {
    "id": "8gYVFB09vNZj"
   },
   "source": [
    "### Loading Data, Creating Target variable, and Preprocessing:"
   ]
  },
  {
   "cell_type": "markdown",
   "metadata": {
    "id": "kF3mkZblvNZk"
   },
   "source": [
    "**Loading data**"
   ]
  },
  {
   "cell_type": "code",
   "execution_count": null,
   "metadata": {
    "colab": {
     "base_uri": "https://localhost:8080/"
    },
    "id": "MHc_c4JRxi57",
    "outputId": "c07ad01f-02f2-4bb8-f67c-e5740e78ebb8"
   },
   "outputs": [],
   "source": [
    "from google.colab import drive\n",
    "drive.mount('/content/drive')"
   ]
  },
  {
   "cell_type": "code",
   "execution_count": null,
   "metadata": {
    "colab": {
     "base_uri": "https://localhost:8080/",
     "height": 548
    },
    "id": "lDHX9JeV5Qr9",
    "outputId": "dd6d3b08-501c-4e8d-b74f-4c8884f69d97"
   },
   "outputs": [],
   "source": [
    "df= pd.read_csv(\"/content/drive/MyDrive/final_kk_data.csv\")\n",
    "df.head()"
   ]
  },
  {
   "cell_type": "code",
   "execution_count": null,
   "metadata": {
    "colab": {
     "base_uri": "https://localhost:8080/"
    },
    "id": "Fh1JWHrYvNZm",
    "outputId": "e977c546-99c2-44b4-ec7e-7f67a9dde09c"
   },
   "outputs": [],
   "source": [
    "\n",
    "print(df.isnull().sum().sum())\n",
    "df.columns"
   ]
  },
  {
   "cell_type": "markdown",
   "metadata": {
    "id": "B6HQ82uOvNZs"
   },
   "source": [
    "#### **Creating Target Variables**"
   ]
  },
  {
   "cell_type": "markdown",
   "metadata": {
    "id": "Khx_1sf8vNZu"
   },
   "source": [
    "**Calculating LoanTenure**"
   ]
  },
  {
   "cell_type": "code",
   "execution_count": null,
   "metadata": {
    "id": "RrLOEemlvNZv"
   },
   "outputs": [],
   "source": [
    "# Load raw data\n",
    "raw_data = pd.read_csv('/content/drive/MyDrive/Bondora_raw.csv')\n",
    "\n",
    "# Filter the for Status = Repaid or Late\n",
    "raw_data = raw_data[raw_data['Status'].isin(['Repaid', 'Late'])]\n",
    "\n",
    "# Choose only needed columns to calculate loan tenure\n",
    "raw_data = raw_data[['MaturityDate_Original', 'LoanDate']]"
   ]
  },
  {
   "cell_type": "code",
   "execution_count": 5,
   "metadata": {
    "id": "cFEZXEzpvNZw"
   },
   "outputs": [
    {
     "ename": "NameError",
     "evalue": "name 'raw_data' is not defined",
     "output_type": "error",
     "traceback": [
      "\u001b[1;31m---------------------------------------------------------------------------\u001b[0m",
      "\u001b[1;31mNameError\u001b[0m                                 Traceback (most recent call last)",
      "\u001b[1;32mC:\\Users\\KISLAY~1\\AppData\\Local\\Temp/ipykernel_8004/2878930221.py\u001b[0m in \u001b[0;36m<module>\u001b[1;34m\u001b[0m\n\u001b[0;32m      1\u001b[0m \u001b[1;31m# Convert date columns into datetime objects\u001b[0m\u001b[1;33m\u001b[0m\u001b[1;33m\u001b[0m\u001b[0m\n\u001b[1;32m----> 2\u001b[1;33m \u001b[1;32mfor\u001b[0m \u001b[0mcol\u001b[0m \u001b[1;32min\u001b[0m \u001b[0mraw_data\u001b[0m\u001b[1;33m.\u001b[0m\u001b[0mcolumns\u001b[0m\u001b[1;33m.\u001b[0m\u001b[0mvalues\u001b[0m\u001b[1;33m:\u001b[0m\u001b[1;33m\u001b[0m\u001b[1;33m\u001b[0m\u001b[0m\n\u001b[0m\u001b[0;32m      3\u001b[0m     \u001b[0mraw_data\u001b[0m\u001b[1;33m[\u001b[0m\u001b[0mcol\u001b[0m\u001b[1;33m]\u001b[0m \u001b[1;33m=\u001b[0m \u001b[0mpd\u001b[0m\u001b[1;33m.\u001b[0m\u001b[0mto_datetime\u001b[0m\u001b[1;33m(\u001b[0m\u001b[0mraw_data\u001b[0m\u001b[1;33m[\u001b[0m\u001b[0mcol\u001b[0m\u001b[1;33m]\u001b[0m\u001b[1;33m)\u001b[0m\u001b[1;33m\u001b[0m\u001b[1;33m\u001b[0m\u001b[0m\n\u001b[0;32m      4\u001b[0m \u001b[1;33m\u001b[0m\u001b[0m\n\u001b[0;32m      5\u001b[0m \u001b[1;31m# Calculate LoanTenure\u001b[0m\u001b[1;33m\u001b[0m\u001b[1;33m\u001b[0m\u001b[0m\n",
      "\u001b[1;31mNameError\u001b[0m: name 'raw_data' is not defined"
     ]
    }
   ],
   "source": [
    "# Convert date columns into datetime objects\n",
    "for col in raw_data.columns.values:\n",
    "    raw_data[col] = pd.to_datetime(raw_data[col])\n",
    "\n",
    "# Calculate LoanTenure\n",
    "raw_data['LoanTenure'] = ((raw_data['MaturityDate_Original'].dt.year - raw_data['LoanDate'].dt.year)*12 +\\\n",
    "     (raw_data['MaturityDate_Original'].dt.month - raw_data['LoanDate'].dt.month))\n",
    "\n",
    "# Set that column in loan_data\n",
    "df['LoanTenure'] = raw_data['LoanTenure'].values\n",
    "\n",
    "# Drop LoanDuration as it has errors\n",
    "df = df.drop('LoanDuration', axis=1)"
   ]
  },
  {
   "cell_type": "markdown",
   "metadata": {
    "id": "ameWKa5ZvNZx"
   },
   "source": [
    "I. Equaty Monthly Installments (EMI)"
   ]
  },
  {
   "cell_type": "code",
   "execution_count": null,
   "metadata": {
    "colab": {
     "base_uri": "https://localhost:8080/"
    },
    "id": "PH_veXkASxrX",
    "outputId": "04665707-5862-43ac-c5bd-ddad1affbe8d"
   },
   "outputs": [],
   "source": [
    "loan_data_temp1 = df[[ 'Amount', 'Interest','LoanTenure']]\n",
    "loan_data_temp1.info()"
   ]
  },
  {
   "cell_type": "code",
   "execution_count": null,
   "metadata": {
    "id": "zANW_HqHvNZy"
   },
   "outputs": [],
   "source": [
    "def emi_cal(p, r, n):\n",
    "  r = ((r /12)/100)\n",
    "  emi = np.round((p * r * pow(1 + r, n)) / (pow(1 + r, n) - 1))\n",
    "  return emi "
   ]
  },
  {
   "cell_type": "code",
   "execution_count": null,
   "metadata": {
    "id": "RXsgnC_nvNZz"
   },
   "outputs": [],
   "source": [
    "loan_data_temp1['EMI'] = emi_cal(loan_data_temp1['Amount'], loan_data_temp1['Interest'], loan_data_temp1['LoanTenure'])\n",
    "loan_data_temp1['tot_pay_back__amt']= loan_data_temp1['EMI'] * loan_data_temp1['LoanTenure']"
   ]
  },
  {
   "cell_type": "code",
   "execution_count": null,
   "metadata": {
    "id": "M2SPQq_KS2vi"
   },
   "outputs": [],
   "source": [
    "df['EMI'] = loan_data_temp1['EMI']"
   ]
  },
  {
   "cell_type": "code",
   "execution_count": null,
   "metadata": {
    "colab": {
     "base_uri": "https://localhost:8080/",
     "height": 676
    },
    "id": "SPVSfB-nS5xX",
    "outputId": "ce95221d-f88b-48fb-bb8c-6c1f306e0e7f"
   },
   "outputs": [],
   "source": [
    "loan_data_temp1.head(20)"
   ]
  },
  {
   "cell_type": "markdown",
   "metadata": {
    "id": "apbW3MZGvNZ0"
   },
   "source": [
    "II. Eligible Loan Amount (ELA)"
   ]
  },
  {
   "cell_type": "code",
   "execution_count": null,
   "metadata": {
    "colab": {
     "base_uri": "https://localhost:8080/"
    },
    "id": "Dxf_af1lTB2b",
    "outputId": "982663f0-b790-4e1c-d5cf-b6e0e65deb25"
   },
   "outputs": [],
   "source": [
    "loan_data_temp2 = df[['AppliedAmount', 'Interest', 'IncomeTotal', 'LiabilitiesTotal', 'LoanTenure']]\n",
    "loan_data_temp2.info()"
   ]
  },
  {
   "cell_type": "code",
   "execution_count": null,
   "metadata": {
    "id": "M707vzQUvNZ2"
   },
   "outputs": [],
   "source": [
    "def avlb_incm(inc,lia):\n",
    "  avlb_incm = np.round((inc-lia)*0.3)\n",
    "  return avlb_incm\n",
    "\n",
    "def tot_amt_pay(app_amt, r,n):\n",
    "  amt_pay_month = np.round((app_amt+(app_amt * (r/100) * (n/12))) / n)\n",
    "  return amt_pay_month\n"
   ]
  },
  {
   "cell_type": "code",
   "execution_count": null,
   "metadata": {
    "colab": {
     "base_uri": "https://localhost:8080/",
     "height": 206
    },
    "id": "JDH9S_NLTUf3",
    "outputId": "138ad6e5-3fae-44a1-c996-10fcad3795c3"
   },
   "outputs": [],
   "source": [
    "# Step 1\n",
    "loan_data_temp2['Avlb_Incm_Monthly'] = avlb_incm (loan_data_temp2['IncomeTotal'],loan_data_temp2['LiabilitiesTotal'])\n",
    "loan_data_temp2['Amt_pay_Monthly'] = tot_amt_pay(loan_data_temp2['AppliedAmount'],loan_data_temp2['Interest'],loan_data_temp2['LoanTenure'])\n",
    "loan_data_temp2.head()"
   ]
  },
  {
   "cell_type": "code",
   "execution_count": null,
   "metadata": {
    "id": "RlB8XCnPTo3_"
   },
   "outputs": [],
   "source": [
    "def ela(df):\n",
    "  avlb_incm = df['Avlb_Incm_Monthly'].values\n",
    "  tot_amt_pay= df['Amt_pay_Monthly'].values \n",
    "  n = df['LoanTenure'].values\n",
    "  ELA = np.empty(0)\n",
    "  for i in range(len(avlb_incm)):\n",
    "    if tot_amt_pay[i] <= avlb_incm[i]:\n",
    "      ELA = np.append(ELA, (tot_amt_pay[i] * n[i]))\n",
    "    else:\n",
    "      ELA = np.append(ELA, (avlb_incm[i] * n[i]))  \n",
    "  return ELA"
   ]
  },
  {
   "cell_type": "code",
   "execution_count": null,
   "metadata": {
    "colab": {
     "base_uri": "https://localhost:8080/",
     "height": 363
    },
    "id": "GRQuJouDvNZ4",
    "outputId": "21dd9af1-0038-4dea-b318-b5b2574f70bd"
   },
   "outputs": [],
   "source": [
    "loan_data_temp2['ELA'] = ela(loan_data_temp2)\n",
    "loan_data_temp2.head(10)"
   ]
  },
  {
   "cell_type": "code",
   "execution_count": null,
   "metadata": {
    "colab": {
     "base_uri": "https://localhost:8080/"
    },
    "id": "CkfsG6VqvNZ4",
    "outputId": "38e0413a-131f-4793-bfaa-7b64d4184ba5"
   },
   "outputs": [],
   "source": [
    "df['ELA'] = loan_data_temp2['ELA']\n",
    "df.columns"
   ]
  },
  {
   "cell_type": "markdown",
   "metadata": {
    "id": "fI8vq14SvNZ7"
   },
   "source": [
    "III. Preferred ROI (PROI) ---> needs redefining"
   ]
  },
  {
   "cell_type": "code",
   "execution_count": null,
   "metadata": {
    "colab": {
     "base_uri": "https://localhost:8080/",
     "height": 206
    },
    "id": "CZDTCPGpUFfJ",
    "outputId": "158ad0b1-1cce-425d-d325-854ee3da879a"
   },
   "outputs": [],
   "source": [
    "loan_data_temp3=df[[ 'Amount','AppliedAmount', 'Interest','LoanTenure','IncomeTotal','DebtToIncome']]\n",
    "loan_data_temp3.head()"
   ]
  },
  {
   "cell_type": "code",
   "execution_count": null,
   "metadata": {
    "id": "cjzPZDNMUHut"
   },
   "outputs": [],
   "source": [
    "loan_data_temp3['InterestAmount'] = (loan_data_temp3['Amount']*(loan_data_temp3['Interest']/100)*(loan_data_temp3['LoanTenure']/12))\n",
    "loan_data_temp3['TotalAmount'] = (loan_data_temp3['InterestAmount'] + loan_data_temp3['Amount'])\n",
    "loan_data_temp3['ROI'] = (loan_data_temp3['InterestAmount'] / loan_data_temp3['Amount'])*100\n",
    "df['ROI'] = loan_data_temp3['ROI']"
   ]
  },
  {
   "cell_type": "code",
   "execution_count": null,
   "metadata": {
    "id": "3bmTZPU5vNZ9"
   },
   "outputs": [],
   "source": [
    "\n",
    "def proi(df):\n",
    "    df['PROI'] = df['ROI'].median()      # Setting PROI\n",
    "\n",
    "    for i in range(df.shape[0]):\n",
    "        # Check out LoanTenure\n",
    "        if df['LoanTenure'].loc[i] <= 19:\n",
    "            df['PROI'].loc[i] = df['PROI'].loc[i] - 5\n",
    "        elif df['LoanTenure'].loc[i] > 25:\n",
    "            df['PROI'].loc[i] = df['PROI'].loc[i] + 5\n",
    "        \n",
    "        # Check out AppliedAmount\n",
    "        if (df['AppliedAmount'].loc[i] <= 1175) & (df['AppliedAmount'].loc[i] >= 850):\n",
    "            df['PROI'].loc[i] = df['PROI'].loc[i] - 5\n",
    "        elif df['AppliedAmount'].loc[i] > 2000:\n",
    "            df['PROI'].loc[i] = df['PROI'].loc[i] + 5\n",
    "\n",
    "        # Check out IncomeTotal\n",
    "        if df['IncomeTotal'].loc[i] <= 1000:\n",
    "            df['PROI'].loc[i] = df['PROI'].loc[i] - 5\n",
    "\n",
    "        # Check out DebtToIncome\n",
    "        if df['DebtToIncome'].loc[i] == 0:\n",
    "            df['PROI'].loc[i] = df['PROI'].loc[i] - 5\n",
    "        else:\n",
    "            df['PROI'].loc[i] = df['PROI'].loc[i] + 5\n",
    "\n",
    "    return df['PROI']"
   ]
  },
  {
   "cell_type": "code",
   "execution_count": null,
   "metadata": {
    "id": "Ko851IpjvNZ-"
   },
   "outputs": [],
   "source": [
    "loan_data_temp3['PROI'] = proi(loan_data_temp3)\n",
    "df['PROI'] = loan_data_temp3['PROI']"
   ]
  },
  {
   "cell_type": "markdown",
   "metadata": {
    "id": "2ogmkUq4vNZ_"
   },
   "source": [
    "IV. LoanStatus"
   ]
  },
  {
   "cell_type": "code",
   "execution_count": null,
   "metadata": {
    "id": "ckGldDkbvNZ_"
   },
   "outputs": [],
   "source": [
    "df['LoanStatus'] = np.where(df['LoanStatus']=='NotDefault', 0, 1)"
   ]
  },
  {
   "cell_type": "code",
   "execution_count": null,
   "metadata": {
    "colab": {
     "base_uri": "https://localhost:8080/"
    },
    "id": "duSzey1HVhm5",
    "outputId": "d67cb214-0efb-4133-ff24-dc9bfd425442"
   },
   "outputs": [],
   "source": [
    "df.columns"
   ]
  },
  {
   "cell_type": "code",
   "execution_count": null,
   "metadata": {
    "id": "mQdCe0N0fDzv"
   },
   "outputs": [],
   "source": [
    "# Other Unwanted Columns\n",
    "\n",
    "df.drop(columns=['Unnamed: 0','PreviousEarlyRepaymentsCountBeforeLoan','LoanTenure','LiabilitiesTotal','PrincipalBalance','InterestAndPenaltyBalance'], inplace = True)"
   ]
  },
  {
   "cell_type": "code",
   "execution_count": null,
   "metadata": {
    "colab": {
     "base_uri": "https://localhost:8080/"
    },
    "id": "kJaKUe-tZ9SQ",
    "outputId": "f0ff0d4e-21f7-41be-f941-9667259f9578"
   },
   "outputs": [],
   "source": [
    "df.shape"
   ]
  },
  {
   "cell_type": "markdown",
   "metadata": {
    "id": "Lx8uKcqBowFr"
   },
   "source": [
    "**1. Imputing both the Categorical and Numerical Features having Missing Values.**"
   ]
  },
  {
   "cell_type": "code",
   "execution_count": null,
   "metadata": {
    "colab": {
     "base_uri": "https://localhost:8080/"
    },
    "id": "al1JnghZoSMJ",
    "outputId": "23c13838-ebdd-4371-c7e0-175780d6845b"
   },
   "outputs": [],
   "source": [
    "#Categorical Features in Dataset \n",
    "catg_features = [col_name for col_name in df.columns if df[col_name].dtype == 'O']\n",
    "print(\"Number of Categorical Features:\",format(len(catg_features )))\n",
    "print(\"Categorical Features: {}\",catg_features )"
   ]
  },
  {
   "cell_type": "code",
   "execution_count": null,
   "metadata": {
    "id": "YZeiHjnhogqn"
   },
   "outputs": [],
   "source": [
    "#Imputing the missing values in categorical features using the most frequent value which is mode\n",
    "catg_features_with_null = [feature for feature in catg_features if df[feature].isnull().sum()]\n",
    "for each_feature in catg_features_with_null:\n",
    "  mode_val = df[each_feature].mode()[0]\n",
    "  df[each_feature].fillna(mode_val,inplace=True)"
   ]
  },
  {
   "cell_type": "code",
   "execution_count": null,
   "metadata": {
    "colab": {
     "base_uri": "https://localhost:8080/"
    },
    "id": "4OfSlQcCoW7s",
    "outputId": "4cb6e9bb-7bde-4264-f1e6-e0b06ab5a075"
   },
   "outputs": [],
   "source": [
    "#Numerical Features in Dataset\n",
    "num_features = [col_name for col_name in df.columns if df[col_name].dtype != 'O']\n",
    "print(\"Number of Numerical Features: \",format(len(num_features)))\n",
    "print(\"Numerical Features: {}\",num_features)"
   ]
  },
  {
   "cell_type": "code",
   "execution_count": null,
   "metadata": {
    "id": "HfS0V1VVoidw"
   },
   "outputs": [],
   "source": [
    "#Impute missing values in numerical features using mean\n",
    "num_features_with_null = [feature for feature in num_features if df[feature].isnull().sum()]\n",
    "for feature in num_features_with_null:\n",
    "   mean_value = df[feature].mean()\n",
    "   df[feature].fillna(mean_value,inplace=True)"
   ]
  },
  {
   "cell_type": "markdown",
   "metadata": {
    "id": "0PUl1b9WvNaA"
   },
   "source": [
    "#### **2. Handling Outliers:**"
   ]
  },
  {
   "cell_type": "code",
   "execution_count": null,
   "metadata": {
    "id": "4XTrXqSAvNaA"
   },
   "outputs": [],
   "source": [
    "#Let's compute IQR for each numerical feature\n",
    "\n",
    "df_IQR = df[df.select_dtypes([float, int]).columns].quantile(.75) - df[df.select_dtypes([float, int]).columns].quantile(.25)\n",
    "\n",
    "# Let's compute maximum and minimum limits\n",
    "df_Max =  df[df.select_dtypes([float, int]).columns].quantile(.75) + (1.5*df_IQR)\n",
    "df_Min =  df[df.select_dtypes([float, int]).columns].quantile(.25) - (1.5*df_IQR)"
   ]
  },
  {
   "cell_type": "code",
   "execution_count": null,
   "metadata": {
    "id": "iuX6elQpvNaB"
   },
   "outputs": [],
   "source": [
    "#Loop for replacing outliers above upper bound with the upper bound value:\n",
    "for column in df.select_dtypes([float, int]).columns :\n",
    "  col_IQR = df[column].quantile(.75) - df[column].quantile(.25)\n",
    "  col_Max =  df[column].quantile(.75) + (1.5*col_IQR)\n",
    "  df[column][df[column] > col_Max] =  col_Max  "
   ]
  },
  {
   "cell_type": "code",
   "execution_count": null,
   "metadata": {
    "id": "bo3bqumFvNaC"
   },
   "outputs": [],
   "source": [
    "#Loop for replacing outliers under lower bound with the lower bound value:\n",
    "for column in df.select_dtypes([float, int]).columns :\n",
    "    col_IQR = df[column].quantile(.75) - df[column].quantile(.25)\n",
    "    col_Min =  df[column].quantile(.25) - (1.5*col_IQR)\n",
    "    df[column][df[column] < col_Min] =  col_Min"
   ]
  },
  {
   "cell_type": "markdown",
   "metadata": {
    "id": "8uhz77-iudT5"
   },
   "source": [
    "Making Certain adjustments for convenience :\n",
    "\n",
    "Rounding off upto 2 decimal places ('PreviousRepaymentsBeforeLoan').\n",
    "\n",
    "Converting features with boolean values ('NewCreditCustomer','Restructured') to categorical values."
   ]
  },
  {
   "cell_type": "code",
   "execution_count": null,
   "metadata": {
    "id": "Gru0ZBLOnqmX"
   },
   "outputs": [],
   "source": [
    "df['PreviousRepaymentsBeforeLoan']=df['PreviousRepaymentsBeforeLoan'].round(decimals = 2)"
   ]
  },
  {
   "cell_type": "code",
   "execution_count": null,
   "metadata": {
    "id": "yUInfYGkNx6W"
   },
   "outputs": [],
   "source": [
    "df['NewCreditCustomer'] = df['NewCreditCustomer'].replace({True: 'True', False: 'False'})   \n",
    "df['Restructured'] = df['Restructured'].replace({True: 'True', False: 'False'})   "
   ]
  },
  {
   "cell_type": "code",
   "execution_count": null,
   "metadata": {
    "colab": {
     "base_uri": "https://localhost:8080/"
    },
    "id": "y9MK04sLOMA-",
    "outputId": "4c6d33b4-b551-4ac4-eb51-c7eb231da83d"
   },
   "outputs": [],
   "source": [
    "df.dtypes"
   ]
  },
  {
   "cell_type": "markdown",
   "metadata": {
    "id": "UYttMp_3vNaD"
   },
   "source": [
    "#### 3. **X, y split**"
   ]
  },
  {
   "cell_type": "code",
   "execution_count": null,
   "metadata": {
    "id": "xJsfAqMwvNaD"
   },
   "outputs": [],
   "source": [
    "# Defining Independent variables Dataset\n",
    "X = df.drop(['EMI', 'ELA', 'PROI', 'LoanStatus'], axis=1)\n",
    "\n",
    "# Assigning target variables for both Models \n",
    "y = df[['LoanStatus', 'EMI', 'ELA', 'PROI']]"
   ]
  },
  {
   "cell_type": "markdown",
   "metadata": {
    "id": "UHlqTpOm8emr"
   },
   "source": [
    "#### **4. Feature Selection**"
   ]
  },
  {
   "cell_type": "code",
   "execution_count": null,
   "metadata": {
    "id": "jsrYu_cE8ems"
   },
   "outputs": [],
   "source": [
    "# A function to select highly correlated features.\n",
    "def Correlation(dataset, threshold): \n",
    "    correltated_features = set() # as a container of highly correlated features\n",
    "    correlation_matrix = dataset.corr()\n",
    "    for i in range(len(correlation_matrix.columns)):\n",
    "        for j in range(i):\n",
    "            if abs(correlation_matrix.iloc[i, j]) > threshold:\n",
    "                column_name = correlation_matrix.columns[i]\n",
    "                correltated_features.add(column_name)\n",
    "    return correltated_features"
   ]
  },
  {
   "cell_type": "code",
   "execution_count": null,
   "metadata": {
    "colab": {
     "base_uri": "https://localhost:8080/"
    },
    "id": "8NRqErV48ems",
    "outputId": "727b5ce6-fc0c-49ac-e337-f2b6edaacc3b"
   },
   "outputs": [],
   "source": [
    "# let's selected features with a correlation factor > 0.8\n",
    "Correlation(X, 0.8)"
   ]
  },
  {
   "cell_type": "code",
   "execution_count": null,
   "metadata": {
    "id": "TdKUtEnr8ems"
   },
   "outputs": [],
   "source": [
    "# Now we can drop these features from our dataset\n",
    "X.drop(columns= [ 'ROI', 'Amount', 'AmountOfPreviousLoansBeforeLoan', 'NoOfPreviousLoansBeforeLoan'], inplace = True )"
   ]
  },
  {
   "cell_type": "code",
   "execution_count": null,
   "metadata": {
    "colab": {
     "base_uri": "https://localhost:8080/"
    },
    "id": "NXGbWowNaAWK",
    "outputId": "d9a8d0b6-94d4-4007-cf5e-98f4eeb3c4d0"
   },
   "outputs": [],
   "source": [
    "print(X.shape)\n",
    "X.columns"
   ]
  },
  {
   "cell_type": "markdown",
   "metadata": {
    "id": "hkFA7FkRvNaN"
   },
   "source": [
    "#### **5.Feature Encoding**"
   ]
  },
  {
   "cell_type": "code",
   "execution_count": null,
   "metadata": {
    "id": "TdLpvRqrvNaP"
   },
   "outputs": [],
   "source": [
    "# X = pd.get_dummies(X, drop_first=True)"
   ]
  },
  {
   "cell_type": "markdown",
   "metadata": {
    "id": "_wR9izH0vNaQ"
   },
   "source": [
    "---"
   ]
  },
  {
   "cell_type": "code",
   "execution_count": null,
   "metadata": {
    "colab": {
     "base_uri": "https://localhost:8080/"
    },
    "id": "w4M40qol2a-h",
    "outputId": "e5303c2d-e9e3-439a-c125-8488f78f8f48"
   },
   "outputs": [],
   "source": [
    "X.shape"
   ]
  },
  {
   "cell_type": "markdown",
   "metadata": {
    "id": "FOG5UHmpvNaQ"
   },
   "source": [
    "#### **6. train, test split**"
   ]
  },
  {
   "cell_type": "code",
   "execution_count": null,
   "metadata": {
    "id": "gpaFXACMvNaR"
   },
   "outputs": [],
   "source": [
    "X_train, X_test, y_train, y_test = train_test_split(X, y, test_size=0.25, random_state=0)\n",
    "\n",
    "# Separating Target values for classifications and regression problems\n",
    "y_class_train = y_train.iloc[:,0]\n",
    "y_reg_train = y_train.iloc[:,1:]\n",
    "\n",
    "y_class_test = y_test.iloc[:,0]\n",
    "y_reg_test = y_test.iloc[:,1:]"
   ]
  },
  {
   "cell_type": "code",
   "execution_count": null,
   "metadata": {
    "id": "bpRldKve9FZt"
   },
   "outputs": [],
   "source": [
    "#df.to_csv('df_kk.csv')"
   ]
  },
  {
   "cell_type": "code",
   "execution_count": null,
   "metadata": {
    "id": "ZYPQ82w2-H0_"
   },
   "outputs": [],
   "source": [
    "input=X_test.iloc[0].values"
   ]
  },
  {
   "cell_type": "code",
   "execution_count": null,
   "metadata": {
    "id": "b0YTARTp-biS"
   },
   "outputs": [],
   "source": [
    "input=input.reshape(1,-1)"
   ]
  },
  {
   "cell_type": "code",
   "execution_count": null,
   "metadata": {
    "colab": {
     "base_uri": "https://localhost:8080/"
    },
    "id": "zXL8yU1z9U8u",
    "outputId": "49a5b3c6-4fc5-4a00-bca5-2387c5502072"
   },
   "outputs": [],
   "source": [
    "input"
   ]
  },
  {
   "cell_type": "code",
   "execution_count": null,
   "metadata": {
    "colab": {
     "base_uri": "https://localhost:8080/"
    },
    "id": "lPxOqh3zFy2V",
    "outputId": "51ce2b06-7474-47e1-f09a-0d80a86921ca"
   },
   "outputs": [],
   "source": [
    "# from sklearn.impute import SimpleImputer\n",
    "\n",
    "# numerical processing pipeline\n",
    "numeric_processor=Pipeline(\n",
    "    steps=[('stdscaler', StandardScaler(with_mean=False))]\n",
    "\n",
    ")\n",
    "\n",
    "numeric_processor"
   ]
  },
  {
   "cell_type": "code",
   "execution_count": null,
   "metadata": {
    "colab": {
     "base_uri": "https://localhost:8080/"
    },
    "id": "FQzItG5KGHPh",
    "outputId": "32113103-53d8-4e98-8eb5-8a11f9fd00b4"
   },
   "outputs": [],
   "source": [
    "from sklearn.preprocessing import OrdinalEncoder\n",
    "\n",
    "# categorical procesing pipeline\n",
    "categorical_processor=Pipeline(\n",
    "    steps=[(\"ord_enc\",OrdinalEncoder(handle_unknown='use_encoded_value', unknown_value=-1)),\n",
    "           ('stdscaler', StandardScaler(with_mean=False))]\n",
    ")\n",
    "\n",
    "categorical_processor"
   ]
  },
  {
   "cell_type": "code",
   "execution_count": null,
   "metadata": {
    "id": "5icTP265FwaK"
   },
   "outputs": [],
   "source": [
    "# combine processing technqiues\n",
    "from sklearn.compose import ColumnTransformer\n",
    "\n",
    "preprocessor=ColumnTransformer(\n",
    "    [(\"categorical\",categorical_processor,[3,4, 5, 7, 8, 12, 13, 14,15,16,17,18,24,25,26]),\n",
    "    (\"numerical\",numeric_processor,[0,1,2,6,9,10,11,19,20,21,22,23,27,28,29])]\n",
    ")"
   ]
  },
  {
   "cell_type": "markdown",
   "metadata": {
    "id": "3nK8-BIcFfDm"
   },
   "source": [
    "BidsPortfolioManager 0\n",
    "BidsApi 1\n",
    "BidsManual 2\n",
    "NewCreditCustomer 3\n",
    "VerificationType 4\n",
    "LanguageCode 5\n",
    "Age 6\n",
    "Gender 7\n",
    "Country 8\n",
    "AppliedAmount 9\n",
    "Interest 10\n",
    "MonthlyPayment 11\n",
    "UseOfLoan 12\n",
    "Education 13\n",
    "MaritalStatus 14\n",
    "EmploymentStatus 15\n",
    "EmploymentDurationCurrentEmployer 16\n",
    "OccupationArea 17\n",
    "HomeOwnershipType 18\n",
    "IncomeTotal 19\n",
    "ExistingLiabilities 20\n",
    "RefinanceLiabilities 21\n",
    "DebtToIncome 22\n",
    "FreeCash 23\n",
    "Rating 24\n",
    "Restructured 25\n",
    "CreditScoreEsMicroL 26\n",
    "PrincipalPaymentsMade 27\n",
    "InterestAndPenaltyPaymentsMade 28\n",
    "PreviousRepaymentsBeforeLoan 29"
   ]
  },
  {
   "cell_type": "code",
   "execution_count": null,
   "metadata": {
    "colab": {
     "base_uri": "https://localhost:8080/"
    },
    "id": "xJiQLZNGFerM",
    "outputId": "4f298452-bc77-46a1-d066-29b7d616d4dc"
   },
   "outputs": [],
   "source": [
    "X.dtypes"
   ]
  },
  {
   "cell_type": "code",
   "execution_count": null,
   "metadata": {
    "colab": {
     "base_uri": "https://localhost:8080/"
    },
    "id": "yTOWiqsQ65Se",
    "outputId": "5e2546b8-cd41-4ae9-aab8-632a32b753b9"
   },
   "outputs": [],
   "source": [
    "X.columns"
   ]
  },
  {
   "cell_type": "code",
   "execution_count": null,
   "metadata": {
    "id": "MY9de0n5Gpqn"
   },
   "outputs": [],
   "source": [
    "# combine processing technqiues\n",
    "# from sklearn.compose import ColumnTransformer\n",
    "\n",
    "# preprocessor=ColumnTransformer(\n",
    "#     [(\"categorical\",categorical_processor,[\"VerificationType\", \"LanguageCode\", \"Gender\", \"Country\", \"UseOfLoan\", \"Education\", \"MaritalStatus\",\n",
    "#                                            \"EmploymentStatus\", \"EmploymentDurationCurrentEmployer\",\"OccupationArea\", \"HomeOwnershipType\",\n",
    "#                                            \"Rating\", \"CreditScoreEsMicroL\"]),\n",
    "#     (\"numerical\",numeric_processor,[\"BidsPortfolioManager\", \"BidsApi\", \"BidsManual\", \"NewCreditCustomer\", \"Age\", \"AppliedAmount\",\n",
    "#                                     \"Interest\", \"MonthlyPayment\", \"IncomeTotal\", \"ExistingLiabilities\", \"RefinanceLiabilities\",\n",
    "#                                     \"DebtToIncome\", \"FreeCash\", \"Restructured\", \"PrincipalPaymentsMade\", \"InterestAndPenaltyPaymentsMade\",\n",
    "#                                     \"PreviousRepaymentsBeforeLoan\"])]\n",
    "# )"
   ]
  },
  {
   "cell_type": "code",
   "execution_count": null,
   "metadata": {
    "colab": {
     "base_uri": "https://localhost:8080/"
    },
    "id": "ut6CFDrhRsrS",
    "outputId": "5aa43555-4917-4726-8534-0a56c20d62f1"
   },
   "outputs": [],
   "source": [
    "catg_features = [col_name for col_name in X.columns if X[col_name].dtype == 'O']\n",
    "print(\"Number of Categorical Features: \",format(len(catg_features)))\n",
    "print(\"Categorical Features: {}\",catg_features)"
   ]
  },
  {
   "cell_type": "code",
   "execution_count": null,
   "metadata": {
    "colab": {
     "base_uri": "https://localhost:8080/"
    },
    "id": "dnbDuAdeIkmr",
    "outputId": "3db31fc4-d8f5-4099-d09a-b24455a9d314"
   },
   "outputs": [],
   "source": [
    "num_features = [col_name for col_name in X.columns if X[col_name].dtype != 'O']\n",
    "print(\"Number of Numerical Features: \",format(len(num_features)))\n",
    "print(\"Numerical Features: {}\",num_features)"
   ]
  },
  {
   "cell_type": "markdown",
   "metadata": {
    "id": "5Xg1CepJvNaS"
   },
   "source": [
    "---"
   ]
  },
  {
   "cell_type": "code",
   "execution_count": null,
   "metadata": {
    "id": "Av3OArSyN2aW"
   },
   "outputs": [],
   "source": [
    "from sklearn.pipeline import make_pipeline\n",
    "from sklearn.svm import SVC\n",
    "from sklearn.linear_model import Ridge"
   ]
  },
  {
   "cell_type": "code",
   "execution_count": null,
   "metadata": {
    "id": "iCmUHFzrU7o0"
   },
   "outputs": [],
   "source": [
    "pca = PCA(n_components=30)\n",
    "svc_classifier = SVC(kernel='rbf')\n",
    "regressor = Ridge(random_state=0)\n"
   ]
  },
  {
   "cell_type": "markdown",
   "metadata": {
    "id": "iujoxFmXvNaT"
   },
   "source": [
    "## Classification Pipeline"
   ]
  },
  {
   "cell_type": "code",
   "execution_count": null,
   "metadata": {
    "id": "QJ-Cz8_dvNaT"
   },
   "outputs": [],
   "source": [
    "# Create Pipeline\n",
    "pipeline_class = make_pipeline(preprocessor,pca,svc_classifier)\n",
    "\n",
    "# fit and transform the pipeline\n",
    "pipeline_class.fit(X_train, y_class_train)\n",
    "\n",
    "# predict using the pipeline\n",
    "pred_class = pipeline_class.predict(X_test)"
   ]
  },
  {
   "cell_type": "code",
   "execution_count": null,
   "metadata": {
    "colab": {
     "base_uri": "https://localhost:8080/"
    },
    "id": "ClxyTNEfvNaU",
    "outputId": "b9ec3e63-ef9c-40fc-ba73-73d4c7a2bba8"
   },
   "outputs": [],
   "source": [
    "print(\"Support Vector Classifier:\")\n",
    "\n",
    "print(\"\\nAccuracy score:\\n\", round(accuracy_score(y_class_test, pred_class)*100,2), '%')\n",
    "print('*'*40)\n",
    "print(\"\\nConfusion Matrix:\\n\", confusion_matrix(y_class_test, pred_class))\n",
    "print('*'*40)\n",
    "print(\"\\nClassification Report:\\n\", classification_report(y_class_test, pred_class,\n",
    "                                        target_names=['Default', 'NotDefault']))"
   ]
  },
  {
   "cell_type": "markdown",
   "metadata": {
    "id": "sUBMf419vNaV"
   },
   "source": [
    "## Regression Pipeline"
   ]
  },
  {
   "cell_type": "code",
   "execution_count": null,
   "metadata": {
    "id": "jjEs5tvKvNaV"
   },
   "outputs": [],
   "source": [
    "pipeline_reg =make_pipeline(preprocessor,pca,regressor)\n",
    "\n",
    "# fit and transform the pipeline\n",
    "pipeline_reg.fit(X_train, y_reg_train)\n",
    "\n",
    "# predict using the pipeline\n",
    "pred_reg = pipeline_reg.predict(X_test)"
   ]
  },
  {
   "cell_type": "code",
   "execution_count": null,
   "metadata": {
    "colab": {
     "base_uri": "https://localhost:8080/"
    },
    "id": "F1V2bwCo4SI6",
    "outputId": "03d693db-2387-40a2-8ea3-90666569d001"
   },
   "outputs": [],
   "source": [
    "# Score and test results\n",
    "print('R2_score : ', round(r2_score(y_reg_test, pred_reg)*100,2), '%')"
   ]
  },
  {
   "cell_type": "markdown",
   "metadata": {
    "id": "7tYltergvNaX"
   },
   "source": [
    "---"
   ]
  },
  {
   "cell_type": "markdown",
   "metadata": {
    "id": "ril7g2qDvNaY"
   },
   "source": [
    "## saving model"
   ]
  },
  {
   "cell_type": "code",
   "execution_count": null,
   "metadata": {
    "id": "OgTGNt49CWlE"
   },
   "outputs": [],
   "source": [
    "import pickle as pkl "
   ]
  },
  {
   "cell_type": "code",
   "execution_count": null,
   "metadata": {
    "id": "Z3kjLX5r8pT_"
   },
   "outputs": [],
   "source": [
    "pickle_out1 = open(\"pipeline_class2.pkl\", \"wb\")  \n",
    "pkl.dump(pipeline_class, pickle_out1)  \n",
    "pickle_out1.close()  "
   ]
  },
  {
   "cell_type": "code",
   "execution_count": null,
   "metadata": {
    "id": "UA8daLK6A09j"
   },
   "outputs": [],
   "source": [
    "pickle_out2 = open(\"pipeline_reg2.pkl\", \"wb\")  \n",
    "pkl.dump(pipeline_reg, pickle_out2)  \n",
    "pickle_out2.close()  "
   ]
  },
  {
   "cell_type": "code",
   "execution_count": null,
   "metadata": {
    "id": "l66Hnz3EvNaY"
   },
   "outputs": [],
   "source": [
    "# import pickle\n",
    "# pickle.dump(pipeline_class, open('pipeline_class2.pkl', 'wb'))\n",
    "# pickle.dump(pipeline_reg, open('pipeline_reg2.pkl', 'wb'))"
   ]
  },
  {
   "cell_type": "code",
   "execution_count": null,
   "metadata": {
    "id": "CmywU_pLJP24"
   },
   "outputs": [],
   "source": [
    "input=X_test.iloc[0].values"
   ]
  },
  {
   "cell_type": "code",
   "execution_count": null,
   "metadata": {
    "id": "9SRC9Ab5JVsF"
   },
   "outputs": [],
   "source": [
    "input=input.reshape(1,-1)"
   ]
  },
  {
   "cell_type": "code",
   "execution_count": null,
   "metadata": {
    "colab": {
     "base_uri": "https://localhost:8080/"
    },
    "id": "ZWVKQDdJJYdL",
    "outputId": "0d4c04d8-f667-4ebd-d8a0-4b9479ffde67"
   },
   "outputs": [],
   "source": [
    "input"
   ]
  },
  {
   "cell_type": "code",
   "execution_count": null,
   "metadata": {
    "id": "TqGiOzsYJj6U"
   },
   "outputs": [],
   "source": [
    "model1=pickle.load(open('pipeline_class2.pkl','rb'))"
   ]
  },
  {
   "cell_type": "code",
   "execution_count": null,
   "metadata": {
    "colab": {
     "base_uri": "https://localhost:8080/"
    },
    "id": "M9Qz4GGDJdnl",
    "outputId": "b288b99e-1bdc-441e-b044-32611dadc4f7"
   },
   "outputs": [],
   "source": [
    "int(model1.predict(input))"
   ]
  },
  {
   "cell_type": "code",
   "execution_count": null,
   "metadata": {
    "id": "UV8_k53tDHE8"
   },
   "outputs": [],
   "source": [
    "# import json\n",
    "# columns = {\n",
    "#     'data_columns' : [col.lower() for col in X.columns]\n",
    "# }\n",
    "# with open(\"columns.json\",\"w\") as f:\n",
    "#     f.write(json.dumps(columns))"
   ]
  },
  {
   "cell_type": "markdown",
   "metadata": {
    "id": "nel1hjA8vNaZ"
   },
   "source": [
    "---"
   ]
  }
 ],
 "metadata": {
  "colab": {
   "provenance": []
  },
  "kernelspec": {
   "display_name": "Python 3 (ipykernel)",
   "language": "python",
   "name": "python3"
  },
  "language_info": {
   "codemirror_mode": {
    "name": "ipython",
    "version": 3
   },
   "file_extension": ".py",
   "mimetype": "text/x-python",
   "name": "python",
   "nbconvert_exporter": "python",
   "pygments_lexer": "ipython3",
   "version": "3.9.7"
  },
  "vscode": {
   "interpreter": {
    "hash": "55f8b0c8eafc8c60051b10e3df5507ddbfe1017aee1ff3d5b682eb72f8ada892"
   }
  }
 },
 "nbformat": 4,
 "nbformat_minor": 1
}
